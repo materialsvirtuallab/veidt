{
 "cells": [
  {
   "cell_type": "code",
   "execution_count": 2,
   "metadata": {},
   "outputs": [],
   "source": [
    "import numpy as np\n",
    "import random\n",
    "import pandas as pd\n",
    "import math\n",
    "from veidt.mcts.feature_construction import generate_features\n",
    "from veidt.mcts.motifs import *\n",
    "from veidt.mcts.reward import gbr_reward"
   ]
  },
  {
   "cell_type": "markdown",
   "metadata": {},
   "source": [
    "## Data Preperation"
   ]
  },
  {
   "cell_type": "code",
   "execution_count": 3,
   "metadata": {},
   "outputs": [],
   "source": [
    "data = pd.read_csv(\"test/train.dat\", sep=' ')\n",
    "x = data.values[:, 2:]\n",
    "y = data.property"
   ]
  },
  {
   "cell_type": "code",
   "execution_count": 4,
   "metadata": {},
   "outputs": [
    {
     "name": "stderr",
     "output_type": "stream",
     "text": [
      "/Users/yeweike/repos/veidt/veidt/mcts/operator.py:42: RuntimeWarning: invalid value encountered in sqrt\n",
      "  sqrt = Operator(lambda x: np.sqrt(x.astype('float64')), 'sqrt', True, False)\n"
     ]
    }
   ],
   "source": [
    "X, fnames = generate_features(data, iteration=1)"
   ]
  },
  {
   "cell_type": "code",
   "execution_count": 5,
   "metadata": {},
   "outputs": [
    {
     "data": {
      "text/plain": [
       "(508, 132)"
      ]
     },
     "execution_count": 5,
     "metadata": {},
     "output_type": "execute_result"
    }
   ],
   "source": [
    "X.shape"
   ]
  },
  {
   "cell_type": "markdown",
   "metadata": {},
   "source": [
    "# MCTS"
   ]
  },
  {
   "cell_type": "code",
   "execution_count": null,
   "metadata": {
    "scrolled": false
   },
   "outputs": [
    {
     "name": "stdout",
     "output_type": "stream",
     "text": [
      "level 0\n",
      "Best Child: [51]\n",
      "Num Children: 2\n",
      "0 visits: 26, reward: -0.186, Fid:  51,103\n",
      "1 visits: 26, reward: -0.184, Fid:  51\n",
      "--------------------------------\n",
      "level 1\n",
      "Best Child: [51, 103]\n",
      "Num Children: 2\n",
      "0 visits: 25, reward: -0.181, Fid:  51,103,94\n",
      "1 visits: 26, reward: -0.188, Fid:  51,103\n",
      "--------------------------------\n"
     ]
    }
   ],
   "source": [
    "setup = SetUp(X, y, k=20, scalar=1/math.sqrt(2.0))\n",
    "levels = 20 #  max number of Fid\n",
    "num_sims = 100 \n",
    "\n",
    "avail_fids = list(range(X.shape[1]))\n",
    "start_id = random.choice(avail_fids)\n",
    "avail_fids.pop(start_id)\n",
    "current_node = Node(State(fids=[start_id], \n",
    "                          avail_fids=avail_fids, \n",
    "                          current_run=1),\n",
    "                    is_root=True)\n",
    "\n",
    "for l in range(levels):\n",
    "    current_node=UCTSEARCH(int(num_sims/(l+1)), current_node, setup)\n",
    "    print(\"level %d\"%l)\n",
    "    print(\"Best Child: %s\"%current_node.state.fids)\n",
    "    print(\"Num Children: %d\"%len(current_node.children))\n",
    "    for i,c in enumerate(current_node.children):\n",
    "        print(i,c)\n",
    "\n",
    "    print(\"--------------------------------\")"
   ]
  },
  {
   "cell_type": "code",
   "execution_count": null,
   "metadata": {},
   "outputs": [],
   "source": []
  }
 ],
 "metadata": {
  "kernelspec": {
   "display_name": "Python 3",
   "language": "python",
   "name": "python3"
  },
  "language_info": {
   "codemirror_mode": {
    "name": "ipython",
    "version": 3
   },
   "file_extension": ".py",
   "mimetype": "text/x-python",
   "name": "python",
   "nbconvert_exporter": "python",
   "pygments_lexer": "ipython3",
   "version": "3.7.4"
  }
 },
 "nbformat": 4,
 "nbformat_minor": 2
}
