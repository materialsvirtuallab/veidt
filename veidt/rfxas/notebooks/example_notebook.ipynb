{
 "cells": [
  {
   "cell_type": "code",
   "execution_count": 1,
   "metadata": {},
   "outputs": [
    {
     "name": "stderr",
     "output_type": "stream",
     "text": [
      "Using TensorFlow backend.\n"
     ]
    }
   ],
   "source": [
    "import os\n",
    "import csv\n",
    "import pandas as pd\n",
    "import numpy as np\n",
    "from veidt.rfxas.core import XANES\n",
    "from veidt.rfxas.prediction import CenvPrediction\n",
    "import matplotlib.pyplot as plt\n",
    "%matplotlib inline"
   ]
  },
  {
   "cell_type": "markdown",
   "metadata": {},
   "source": [
    "### Create XANES by passing spectrum energy and mu directly "
   ]
  },
  {
   "cell_type": "code",
   "execution_count": 2,
   "metadata": {},
   "outputs": [],
   "source": [
    "Fe2O3_spectrum_dataframe = pd.read_pickle('Fe2O3_computational_spectrum.pkl')"
   ]
  },
  {
   "cell_type": "code",
   "execution_count": 3,
   "metadata": {},
   "outputs": [
    {
     "data": {
      "text/html": [
       "<div>\n",
       "<style scoped>\n",
       "    .dataframe tbody tr th:only-of-type {\n",
       "        vertical-align: middle;\n",
       "    }\n",
       "\n",
       "    .dataframe tbody tr th {\n",
       "        vertical-align: top;\n",
       "    }\n",
       "\n",
       "    .dataframe thead th {\n",
       "        text-align: right;\n",
       "    }\n",
       "</style>\n",
       "<table border=\"1\" class=\"dataframe\">\n",
       "  <thead>\n",
       "    <tr style=\"text-align: right;\">\n",
       "      <th></th>\n",
       "      <th>formula</th>\n",
       "      <th>absorbing_species</th>\n",
       "      <th>mp_id</th>\n",
       "      <th>x_axis_energy_55eV</th>\n",
       "      <th>interp_spectrum_55eV</th>\n",
       "    </tr>\n",
       "  </thead>\n",
       "  <tbody>\n",
       "    <tr>\n",
       "      <td>0</td>\n",
       "      <td>Fe2O3</td>\n",
       "      <td>Fe</td>\n",
       "      <td>mp-24972</td>\n",
       "      <td>[7114.019, 7114.296201005025, 7114.57340201005...</td>\n",
       "      <td>[0.0263995, 0.02839960506192803, 0.03083661055...</td>\n",
       "    </tr>\n",
       "  </tbody>\n",
       "</table>\n",
       "</div>"
      ],
      "text/plain": [
       "  formula absorbing_species     mp_id  \\\n",
       "0   Fe2O3                Fe  mp-24972   \n",
       "\n",
       "                                  x_axis_energy_55eV  \\\n",
       "0  [7114.019, 7114.296201005025, 7114.57340201005...   \n",
       "\n",
       "                                interp_spectrum_55eV  \n",
       "0  [0.0263995, 0.02839960506192803, 0.03083661055...  "
      ]
     },
     "execution_count": 3,
     "metadata": {},
     "output_type": "execute_result"
    }
   ],
   "source": [
    "Fe2O3_spectrum_dataframe"
   ]
  },
  {
   "cell_type": "code",
   "execution_count": 4,
   "metadata": {},
   "outputs": [
    {
     "name": "stderr",
     "output_type": "stream",
     "text": [
      "/Users/chenchi/repos/veidt/veidt/rfxas/core.py:39: UserWarning: Edge energy is determined with maximum derivative. Using this e0 with caution.\n",
      "  warnings.warn(warning_msg)\n"
     ]
    }
   ],
   "source": [
    "spectrum_energy = Fe2O3_spectrum_dataframe['x_axis_energy_55eV'].values[0]\n",
    "spectrum_mu = Fe2O3_spectrum_dataframe['interp_spectrum_55eV'].values[0]\n",
    "Fe2O3_XANES_object1 = XANES(spectrum_energy, spectrum_mu, absorption_specie='Fe', edge='K')"
   ]
  },
  {
   "cell_type": "code",
   "execution_count": 5,
   "metadata": {},
   "outputs": [
    {
     "data": {
      "text/plain": [
       "[<matplotlib.lines.Line2D at 0x1437378d0>]"
      ]
     },
     "execution_count": 5,
     "metadata": {},
     "output_type": "execute_result"
    },
    {
     "data": {
      "image/png": "[encoded data removed]",
      "text/plain": [
       "<Figure size 432x288 with 1 Axes>"
      ]
     },
     "metadata": {
      "needs_background": "light"
     },
     "output_type": "display_data"
    }
   ],
   "source": [
    "Fe2O3_object1_CenvPred = CenvPrediction(Fe2O3_XANES_object1, energy_reference='lowest', energy_range=45)\n",
    "##Plot interpolated spectrum used in coordination environment prediction\n",
    "plt.plot(Fe2O3_object1_CenvPred.interp_energy, Fe2O3_object1_CenvPred.interp_spectrum)"
   ]
  },
  {
   "cell_type": "markdown",
   "metadata": {},
   "source": [
    "**Predict with random forest model**"
   ]
  },
  {
   "cell_type": "code",
   "execution_count": 6,
   "metadata": {},
   "outputs": [
    {
     "name": "stderr",
     "output_type": "stream",
     "text": [
      "INFO:veidt.rfxas.prediction:Loaded /Users/chenchi/repos/veidt/veidt/rfxas/./models/cnum/RandomForest_Fe_c_num.sav model\n",
      "INFO:veidt.rfxas.prediction:Loaded /Users/chenchi/repos/veidt/veidt/rfxas/./models/cmotif/RandomForest_Fe_c_env_ex_CN_6.sav model\n"
     ]
    },
    {
     "name": "stdout",
     "output_type": "stream",
     "text": [
      "Predicted coordination environment label:  ['CN_6-octahedral-pentagonal pyramidal-hexagonal planar']\n"
     ]
    }
   ],
   "source": [
    "Fe2O3_object1_CenvPred.cenv_prediction()\n",
    "print('Predicted coordination environment label: ', Fe2O3_object1_CenvPred.pred_cenv)"
   ]
  },
  {
   "cell_type": "markdown",
   "metadata": {},
   "source": [
    "**Predict with CNN** \n",
    "\n",
    "Similarly one can set `model` to `knn`, `mlp`, `svc` or the previous random forest `rf` (default)"
   ]
  },
  {
   "cell_type": "code",
   "execution_count": 7,
   "metadata": {},
   "outputs": [
    {
     "name": "stderr",
     "output_type": "stream",
     "text": [
      "INFO:veidt.rfxas.prediction:Loaded /Users/chenchi/repos/veidt/veidt/rfxas/./ex_models/Model_share/CNN_model/cnum/CNN_Fe_c_num.h5 model\n",
      "INFO:veidt.rfxas.prediction:Loaded /Users/chenchi/repos/veidt/veidt/rfxas/./ex_models/Model_share/CNN_model/cmotif/CNN_Fe_c_env_CN_6_env_label.h5 model\n"
     ]
    },
    {
     "name": "stdout",
     "output_type": "stream",
     "text": [
      "Predicted coordination environment label:  ['CN_6-octahedral-pentagonal pyramidal-hexagonal planar']\n"
     ]
    }
   ],
   "source": [
    "Fe2O3_object1_CenvPred = CenvPrediction(Fe2O3_XANES_object1, energy_reference='lowest', \n",
    "                                        energy_range=45, model='cnn')\n",
    "Fe2O3_object1_CenvPred.cenv_prediction()\n",
    "print('Predicted coordination environment label: ', Fe2O3_object1_CenvPred.pred_cenv)"
   ]
  },
  {
   "cell_type": "markdown",
   "metadata": {},
   "source": [
    "### Initiate XANES object from Materials Project website downloaded spectrum file (tsv)"
   ]
  },
  {
   "cell_type": "code",
   "execution_count": 8,
   "metadata": {},
   "outputs": [
    {
     "name": "stderr",
     "output_type": "stream",
     "text": [
      "/Users/chenchi/repos/veidt/veidt/rfxas/core.py:79: UserWarning: Absorption specie is derived using the edge energy determined with maximum derivative.\n",
      "  warnings.warn(warning_msg)\n",
      "/Users/chenchi/repos/veidt/veidt/rfxas/core.py:85: SettingWithCopyWarning: \n",
      "A value is trying to be set on a copy of a slice from a DataFrame.\n",
      "Try using .loc[row_indexer,col_indexer] = value instead\n",
      "\n",
      "See the caveats in the documentation: http://pandas.pydata.org/pandas-docs/stable/user_guide/indexing.html#returning-a-view-versus-a-copy\n",
      "  lambda x: np.abs(x - edge_energy))\n",
      "/Users/chenchi/repos/veidt/veidt/rfxas/core.py:39: UserWarning: Edge energy is determined with maximum derivative. Using this e0 with caution.\n",
      "  warnings.warn(warning_msg)\n"
     ]
    },
    {
     "data": {
      "text/plain": [
       "[<matplotlib.lines.Line2D at 0x148cb3748>]"
      ]
     },
     "execution_count": 8,
     "metadata": {},
     "output_type": "execute_result"
    },
    {
     "data": {
      "image/png": "[encoded data removed]",
      "text/plain": [
       "<Figure size 432x288 with 1 Axes>"
      ]
     },
     "metadata": {
      "needs_background": "light"
     },
     "output_type": "display_data"
    }
   ],
   "source": [
    "Fe2O3_XANES_object2 = XANES.from_K_XANES_MP_tsv('xas.XANES.K.Fe2O3.mp-24972.tsv')\n",
    "Fe2O3_object2_CenvPred = CenvPrediction(Fe2O3_XANES_object2, energy_reference='lowest', energy_range=45)\n",
    "##Plot interpolated spectrum used in coordination environment prediction\n",
    "plt.plot(Fe2O3_object2_CenvPred.interp_energy, Fe2O3_object2_CenvPred.interp_spectrum)"
   ]
  },
  {
   "cell_type": "code",
   "execution_count": 9,
   "metadata": {},
   "outputs": [
    {
     "name": "stderr",
     "output_type": "stream",
     "text": [
      "INFO:veidt.rfxas.prediction:Loaded /Users/chenchi/repos/veidt/veidt/rfxas/./models/cnum/RandomForest_Fe_c_num.sav model\n",
      "INFO:veidt.rfxas.prediction:Loaded /Users/chenchi/repos/veidt/veidt/rfxas/./models/cmotif/RandomForest_Fe_c_env_ex_CN_6.sav model\n"
     ]
    },
    {
     "name": "stdout",
     "output_type": "stream",
     "text": [
      "Predicted coordination environment label:  ['CN_6-octahedral-pentagonal pyramidal-hexagonal planar']\n"
     ]
    }
   ],
   "source": [
    "Fe2O3_object2_CenvPred.cenv_prediction()\n",
    "print('Predicted coordination environment label: ', Fe2O3_object2_CenvPred.pred_cenv)"
   ]
  }
 ],
 "metadata": {
  "kernelspec": {
   "display_name": "Python 3",
   "language": "python",
   "name": "python3"
  },
  "language_info": {
   "codemirror_mode": {
    "name": "ipython",
    "version": 3
   },
   "file_extension": ".py",
   "mimetype": "text/x-python",
   "name": "python",
   "nbconvert_exporter": "python",
   "pygments_lexer": "ipython3",
   "version": "3.7.3"
  }
 },
 "nbformat": 4,
 "nbformat_minor": 2
}
